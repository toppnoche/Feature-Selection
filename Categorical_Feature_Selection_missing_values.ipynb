{
 "cells": [
  {
   "cell_type": "code",
   "execution_count": 153,
   "metadata": {},
   "outputs": [
    {
     "data": {
      "text/html": [
       "<div>\n",
       "<style scoped>\n",
       "    .dataframe tbody tr th:only-of-type {\n",
       "        vertical-align: middle;\n",
       "    }\n",
       "\n",
       "    .dataframe tbody tr th {\n",
       "        vertical-align: top;\n",
       "    }\n",
       "\n",
       "    .dataframe thead th {\n",
       "        text-align: right;\n",
       "    }\n",
       "</style>\n",
       "<table border=\"1\" class=\"dataframe\">\n",
       "  <thead>\n",
       "    <tr style=\"text-align: right;\">\n",
       "      <th></th>\n",
       "      <th>Age</th>\n",
       "      <th>Sex</th>\n",
       "      <th>Chest pain type</th>\n",
       "      <th>BP</th>\n",
       "      <th>Cholesterol</th>\n",
       "      <th>FBS over 120</th>\n",
       "      <th>EKG results</th>\n",
       "      <th>Max HR</th>\n",
       "      <th>Exercise angina</th>\n",
       "      <th>ST depression</th>\n",
       "      <th>Slope of ST</th>\n",
       "      <th>Number of vessels fluro</th>\n",
       "      <th>Thallium</th>\n",
       "      <th>Heart Disease</th>\n",
       "    </tr>\n",
       "  </thead>\n",
       "  <tbody>\n",
       "    <tr>\n",
       "      <th>0</th>\n",
       "      <td>70</td>\n",
       "      <td>1.0</td>\n",
       "      <td>4</td>\n",
       "      <td>130</td>\n",
       "      <td>322.0</td>\n",
       "      <td>0.0</td>\n",
       "      <td>2</td>\n",
       "      <td>109</td>\n",
       "      <td>0</td>\n",
       "      <td>2.4</td>\n",
       "      <td>2.0</td>\n",
       "      <td>3</td>\n",
       "      <td>3</td>\n",
       "      <td>Presence</td>\n",
       "    </tr>\n",
       "    <tr>\n",
       "      <th>1</th>\n",
       "      <td>67</td>\n",
       "      <td>0.0</td>\n",
       "      <td>3</td>\n",
       "      <td>115</td>\n",
       "      <td>564.0</td>\n",
       "      <td>0.0</td>\n",
       "      <td>2</td>\n",
       "      <td>160</td>\n",
       "      <td>0</td>\n",
       "      <td>1.6</td>\n",
       "      <td>2.0</td>\n",
       "      <td>0</td>\n",
       "      <td>7</td>\n",
       "      <td>Absence</td>\n",
       "    </tr>\n",
       "    <tr>\n",
       "      <th>2</th>\n",
       "      <td>57</td>\n",
       "      <td>1.0</td>\n",
       "      <td>2</td>\n",
       "      <td>124</td>\n",
       "      <td>261.0</td>\n",
       "      <td>0.0</td>\n",
       "      <td>0</td>\n",
       "      <td>141</td>\n",
       "      <td>0</td>\n",
       "      <td>0.3</td>\n",
       "      <td>1.0</td>\n",
       "      <td>0</td>\n",
       "      <td>7</td>\n",
       "      <td>Presence</td>\n",
       "    </tr>\n",
       "    <tr>\n",
       "      <th>3</th>\n",
       "      <td>64</td>\n",
       "      <td>1.0</td>\n",
       "      <td>4</td>\n",
       "      <td>128</td>\n",
       "      <td>263.0</td>\n",
       "      <td>0.0</td>\n",
       "      <td>0</td>\n",
       "      <td>105</td>\n",
       "      <td>1</td>\n",
       "      <td>0.2</td>\n",
       "      <td>2.0</td>\n",
       "      <td>1</td>\n",
       "      <td>7</td>\n",
       "      <td>Absence</td>\n",
       "    </tr>\n",
       "    <tr>\n",
       "      <th>4</th>\n",
       "      <td>74</td>\n",
       "      <td>0.0</td>\n",
       "      <td>2</td>\n",
       "      <td>120</td>\n",
       "      <td>269.0</td>\n",
       "      <td>0.0</td>\n",
       "      <td>2</td>\n",
       "      <td>121</td>\n",
       "      <td>1</td>\n",
       "      <td>0.2</td>\n",
       "      <td>1.0</td>\n",
       "      <td>1</td>\n",
       "      <td>3</td>\n",
       "      <td>Absence</td>\n",
       "    </tr>\n",
       "    <tr>\n",
       "      <th>...</th>\n",
       "      <td>...</td>\n",
       "      <td>...</td>\n",
       "      <td>...</td>\n",
       "      <td>...</td>\n",
       "      <td>...</td>\n",
       "      <td>...</td>\n",
       "      <td>...</td>\n",
       "      <td>...</td>\n",
       "      <td>...</td>\n",
       "      <td>...</td>\n",
       "      <td>...</td>\n",
       "      <td>...</td>\n",
       "      <td>...</td>\n",
       "      <td>...</td>\n",
       "    </tr>\n",
       "    <tr>\n",
       "      <th>265</th>\n",
       "      <td>52</td>\n",
       "      <td>1.0</td>\n",
       "      <td>3</td>\n",
       "      <td>172</td>\n",
       "      <td>199.0</td>\n",
       "      <td>1.0</td>\n",
       "      <td>0</td>\n",
       "      <td>162</td>\n",
       "      <td>0</td>\n",
       "      <td>0.5</td>\n",
       "      <td>1.0</td>\n",
       "      <td>0</td>\n",
       "      <td>7</td>\n",
       "      <td>Absence</td>\n",
       "    </tr>\n",
       "    <tr>\n",
       "      <th>266</th>\n",
       "      <td>44</td>\n",
       "      <td>1.0</td>\n",
       "      <td>2</td>\n",
       "      <td>120</td>\n",
       "      <td>263.0</td>\n",
       "      <td>0.0</td>\n",
       "      <td>0</td>\n",
       "      <td>173</td>\n",
       "      <td>0</td>\n",
       "      <td>0.0</td>\n",
       "      <td>1.0</td>\n",
       "      <td>0</td>\n",
       "      <td>7</td>\n",
       "      <td>Absence</td>\n",
       "    </tr>\n",
       "    <tr>\n",
       "      <th>267</th>\n",
       "      <td>56</td>\n",
       "      <td>0.0</td>\n",
       "      <td>2</td>\n",
       "      <td>140</td>\n",
       "      <td>294.0</td>\n",
       "      <td>0.0</td>\n",
       "      <td>2</td>\n",
       "      <td>153</td>\n",
       "      <td>0</td>\n",
       "      <td>1.3</td>\n",
       "      <td>2.0</td>\n",
       "      <td>0</td>\n",
       "      <td>3</td>\n",
       "      <td>Absence</td>\n",
       "    </tr>\n",
       "    <tr>\n",
       "      <th>268</th>\n",
       "      <td>57</td>\n",
       "      <td>1.0</td>\n",
       "      <td>4</td>\n",
       "      <td>140</td>\n",
       "      <td>192.0</td>\n",
       "      <td>0.0</td>\n",
       "      <td>0</td>\n",
       "      <td>148</td>\n",
       "      <td>0</td>\n",
       "      <td>0.4</td>\n",
       "      <td>2.0</td>\n",
       "      <td>0</td>\n",
       "      <td>6</td>\n",
       "      <td>Absence</td>\n",
       "    </tr>\n",
       "    <tr>\n",
       "      <th>269</th>\n",
       "      <td>67</td>\n",
       "      <td>1.0</td>\n",
       "      <td>4</td>\n",
       "      <td>160</td>\n",
       "      <td>286.0</td>\n",
       "      <td>0.0</td>\n",
       "      <td>2</td>\n",
       "      <td>108</td>\n",
       "      <td>1</td>\n",
       "      <td>1.5</td>\n",
       "      <td>2.0</td>\n",
       "      <td>3</td>\n",
       "      <td>3</td>\n",
       "      <td>Presence</td>\n",
       "    </tr>\n",
       "  </tbody>\n",
       "</table>\n",
       "<p>270 rows × 14 columns</p>\n",
       "</div>"
      ],
      "text/plain": [
       "    Age  Sex Chest pain type   BP  Cholesterol  FBS over 120 EKG results  \\\n",
       "0    70  1.0               4  130        322.0           0.0           2   \n",
       "1    67  0.0               3  115        564.0           0.0           2   \n",
       "2    57  1.0               2  124        261.0           0.0           0   \n",
       "3    64  1.0               4  128        263.0           0.0           0   \n",
       "4    74  0.0               2  120        269.0           0.0           2   \n",
       "..   ..  ...             ...  ...          ...           ...         ...   \n",
       "265  52  1.0               3  172        199.0           1.0           0   \n",
       "266  44  1.0               2  120        263.0           0.0           0   \n",
       "267  56  0.0               2  140        294.0           0.0           2   \n",
       "268  57  1.0               4  140        192.0           0.0           0   \n",
       "269  67  1.0               4  160        286.0           0.0           2   \n",
       "\n",
       "    Max HR Exercise angina  ST depression  Slope of ST  \\\n",
       "0      109               0            2.4          2.0   \n",
       "1      160               0            1.6          2.0   \n",
       "2      141               0            0.3          1.0   \n",
       "3      105               1            0.2          2.0   \n",
       "4      121               1            0.2          1.0   \n",
       "..     ...             ...            ...          ...   \n",
       "265    162               0            0.5          1.0   \n",
       "266    173               0            0.0          1.0   \n",
       "267    153               0            1.3          2.0   \n",
       "268    148               0            0.4          2.0   \n",
       "269    108               1            1.5          2.0   \n",
       "\n",
       "    Number of vessels fluro  Thallium Heart Disease  \n",
       "0                         3         3      Presence  \n",
       "1                         0         7       Absence  \n",
       "2                         0         7      Presence  \n",
       "3                         1         7       Absence  \n",
       "4                         1         3       Absence  \n",
       "..                      ...       ...           ...  \n",
       "265                       0         7       Absence  \n",
       "266                       0         7       Absence  \n",
       "267                       0         3       Absence  \n",
       "268                       0         6       Absence  \n",
       "269                       3         3      Presence  \n",
       "\n",
       "[270 rows x 14 columns]"
      ]
     },
     "execution_count": 153,
     "metadata": {},
     "output_type": "execute_result"
    }
   ],
   "source": [
    "import pandas as pd\n",
    "import numpy as np\n",
    "df=pd.read_csv(\"Heart_Disease_Prediction.csv\")\n",
    "import seaborn as sns\n",
    "import warnings\n",
    "warnings.filterwarnings('ignore')\n",
    "df\n"
   ]
  },
  {
   "cell_type": "code",
   "execution_count": 154,
   "metadata": {},
   "outputs": [
    {
     "data": {
      "text/html": [
       "<div>\n",
       "<style scoped>\n",
       "    .dataframe tbody tr th:only-of-type {\n",
       "        vertical-align: middle;\n",
       "    }\n",
       "\n",
       "    .dataframe tbody tr th {\n",
       "        vertical-align: top;\n",
       "    }\n",
       "\n",
       "    .dataframe thead th {\n",
       "        text-align: right;\n",
       "    }\n",
       "</style>\n",
       "<table border=\"1\" class=\"dataframe\">\n",
       "  <thead>\n",
       "    <tr style=\"text-align: right;\">\n",
       "      <th></th>\n",
       "      <th>Age</th>\n",
       "      <th>Sex</th>\n",
       "      <th>Chest pain type</th>\n",
       "      <th>BP</th>\n",
       "      <th>Cholesterol</th>\n",
       "      <th>FBS over 120</th>\n",
       "      <th>EKG results</th>\n",
       "      <th>Max HR</th>\n",
       "      <th>Exercise angina</th>\n",
       "      <th>ST depression</th>\n",
       "      <th>Slope of ST</th>\n",
       "      <th>Number of vessels fluro</th>\n",
       "      <th>Thallium</th>\n",
       "      <th>Heart Disease</th>\n",
       "    </tr>\n",
       "  </thead>\n",
       "  <tbody>\n",
       "    <tr>\n",
       "      <th>0</th>\n",
       "      <td>False</td>\n",
       "      <td>False</td>\n",
       "      <td>False</td>\n",
       "      <td>False</td>\n",
       "      <td>False</td>\n",
       "      <td>False</td>\n",
       "      <td>False</td>\n",
       "      <td>False</td>\n",
       "      <td>False</td>\n",
       "      <td>False</td>\n",
       "      <td>False</td>\n",
       "      <td>False</td>\n",
       "      <td>False</td>\n",
       "      <td>False</td>\n",
       "    </tr>\n",
       "    <tr>\n",
       "      <th>1</th>\n",
       "      <td>False</td>\n",
       "      <td>False</td>\n",
       "      <td>False</td>\n",
       "      <td>False</td>\n",
       "      <td>False</td>\n",
       "      <td>False</td>\n",
       "      <td>False</td>\n",
       "      <td>False</td>\n",
       "      <td>False</td>\n",
       "      <td>False</td>\n",
       "      <td>False</td>\n",
       "      <td>False</td>\n",
       "      <td>False</td>\n",
       "      <td>False</td>\n",
       "    </tr>\n",
       "    <tr>\n",
       "      <th>2</th>\n",
       "      <td>False</td>\n",
       "      <td>False</td>\n",
       "      <td>False</td>\n",
       "      <td>False</td>\n",
       "      <td>False</td>\n",
       "      <td>False</td>\n",
       "      <td>False</td>\n",
       "      <td>False</td>\n",
       "      <td>False</td>\n",
       "      <td>False</td>\n",
       "      <td>False</td>\n",
       "      <td>False</td>\n",
       "      <td>False</td>\n",
       "      <td>False</td>\n",
       "    </tr>\n",
       "    <tr>\n",
       "      <th>3</th>\n",
       "      <td>False</td>\n",
       "      <td>False</td>\n",
       "      <td>False</td>\n",
       "      <td>False</td>\n",
       "      <td>False</td>\n",
       "      <td>False</td>\n",
       "      <td>False</td>\n",
       "      <td>False</td>\n",
       "      <td>False</td>\n",
       "      <td>False</td>\n",
       "      <td>False</td>\n",
       "      <td>False</td>\n",
       "      <td>False</td>\n",
       "      <td>False</td>\n",
       "    </tr>\n",
       "    <tr>\n",
       "      <th>4</th>\n",
       "      <td>False</td>\n",
       "      <td>False</td>\n",
       "      <td>False</td>\n",
       "      <td>False</td>\n",
       "      <td>False</td>\n",
       "      <td>False</td>\n",
       "      <td>False</td>\n",
       "      <td>False</td>\n",
       "      <td>False</td>\n",
       "      <td>False</td>\n",
       "      <td>False</td>\n",
       "      <td>False</td>\n",
       "      <td>False</td>\n",
       "      <td>False</td>\n",
       "    </tr>\n",
       "    <tr>\n",
       "      <th>...</th>\n",
       "      <td>...</td>\n",
       "      <td>...</td>\n",
       "      <td>...</td>\n",
       "      <td>...</td>\n",
       "      <td>...</td>\n",
       "      <td>...</td>\n",
       "      <td>...</td>\n",
       "      <td>...</td>\n",
       "      <td>...</td>\n",
       "      <td>...</td>\n",
       "      <td>...</td>\n",
       "      <td>...</td>\n",
       "      <td>...</td>\n",
       "      <td>...</td>\n",
       "    </tr>\n",
       "    <tr>\n",
       "      <th>265</th>\n",
       "      <td>False</td>\n",
       "      <td>False</td>\n",
       "      <td>False</td>\n",
       "      <td>False</td>\n",
       "      <td>False</td>\n",
       "      <td>False</td>\n",
       "      <td>False</td>\n",
       "      <td>False</td>\n",
       "      <td>False</td>\n",
       "      <td>False</td>\n",
       "      <td>False</td>\n",
       "      <td>False</td>\n",
       "      <td>False</td>\n",
       "      <td>False</td>\n",
       "    </tr>\n",
       "    <tr>\n",
       "      <th>266</th>\n",
       "      <td>False</td>\n",
       "      <td>False</td>\n",
       "      <td>False</td>\n",
       "      <td>False</td>\n",
       "      <td>False</td>\n",
       "      <td>False</td>\n",
       "      <td>False</td>\n",
       "      <td>False</td>\n",
       "      <td>False</td>\n",
       "      <td>False</td>\n",
       "      <td>False</td>\n",
       "      <td>False</td>\n",
       "      <td>False</td>\n",
       "      <td>False</td>\n",
       "    </tr>\n",
       "    <tr>\n",
       "      <th>267</th>\n",
       "      <td>False</td>\n",
       "      <td>False</td>\n",
       "      <td>False</td>\n",
       "      <td>False</td>\n",
       "      <td>False</td>\n",
       "      <td>False</td>\n",
       "      <td>False</td>\n",
       "      <td>False</td>\n",
       "      <td>False</td>\n",
       "      <td>False</td>\n",
       "      <td>False</td>\n",
       "      <td>False</td>\n",
       "      <td>False</td>\n",
       "      <td>False</td>\n",
       "    </tr>\n",
       "    <tr>\n",
       "      <th>268</th>\n",
       "      <td>False</td>\n",
       "      <td>False</td>\n",
       "      <td>False</td>\n",
       "      <td>False</td>\n",
       "      <td>False</td>\n",
       "      <td>False</td>\n",
       "      <td>False</td>\n",
       "      <td>False</td>\n",
       "      <td>False</td>\n",
       "      <td>False</td>\n",
       "      <td>False</td>\n",
       "      <td>False</td>\n",
       "      <td>False</td>\n",
       "      <td>False</td>\n",
       "    </tr>\n",
       "    <tr>\n",
       "      <th>269</th>\n",
       "      <td>False</td>\n",
       "      <td>False</td>\n",
       "      <td>False</td>\n",
       "      <td>False</td>\n",
       "      <td>False</td>\n",
       "      <td>False</td>\n",
       "      <td>False</td>\n",
       "      <td>False</td>\n",
       "      <td>False</td>\n",
       "      <td>False</td>\n",
       "      <td>False</td>\n",
       "      <td>False</td>\n",
       "      <td>False</td>\n",
       "      <td>False</td>\n",
       "    </tr>\n",
       "  </tbody>\n",
       "</table>\n",
       "<p>270 rows × 14 columns</p>\n",
       "</div>"
      ],
      "text/plain": [
       "       Age    Sex  Chest pain type     BP  Cholesterol  FBS over 120  \\\n",
       "0    False  False            False  False        False         False   \n",
       "1    False  False            False  False        False         False   \n",
       "2    False  False            False  False        False         False   \n",
       "3    False  False            False  False        False         False   \n",
       "4    False  False            False  False        False         False   \n",
       "..     ...    ...              ...    ...          ...           ...   \n",
       "265  False  False            False  False        False         False   \n",
       "266  False  False            False  False        False         False   \n",
       "267  False  False            False  False        False         False   \n",
       "268  False  False            False  False        False         False   \n",
       "269  False  False            False  False        False         False   \n",
       "\n",
       "     EKG results  Max HR  Exercise angina  ST depression  Slope of ST  \\\n",
       "0          False   False            False          False        False   \n",
       "1          False   False            False          False        False   \n",
       "2          False   False            False          False        False   \n",
       "3          False   False            False          False        False   \n",
       "4          False   False            False          False        False   \n",
       "..           ...     ...              ...            ...          ...   \n",
       "265        False   False            False          False        False   \n",
       "266        False   False            False          False        False   \n",
       "267        False   False            False          False        False   \n",
       "268        False   False            False          False        False   \n",
       "269        False   False            False          False        False   \n",
       "\n",
       "     Number of vessels fluro  Thallium  Heart Disease  \n",
       "0                      False     False          False  \n",
       "1                      False     False          False  \n",
       "2                      False     False          False  \n",
       "3                      False     False          False  \n",
       "4                      False     False          False  \n",
       "..                       ...       ...            ...  \n",
       "265                    False     False          False  \n",
       "266                    False     False          False  \n",
       "267                    False     False          False  \n",
       "268                    False     False          False  \n",
       "269                    False     False          False  \n",
       "\n",
       "[270 rows x 14 columns]"
      ]
     },
     "execution_count": 154,
     "metadata": {},
     "output_type": "execute_result"
    }
   ],
   "source": [
    "df.head(2)\n",
    "df.describe()\n",
    "df.corr()\n",
    "df.isnull()"
   ]
  },
  {
   "cell_type": "code",
   "execution_count": 155,
   "metadata": {},
   "outputs": [
    {
     "data": {
      "text/plain": [
       "Age                        0\n",
       "Sex                        1\n",
       "Chest pain type            0\n",
       "BP                         0\n",
       "Cholesterol                1\n",
       "FBS over 120               1\n",
       "EKG results                0\n",
       "Max HR                     0\n",
       "Exercise angina            0\n",
       "ST depression              1\n",
       "Slope of ST                1\n",
       "Number of vessels fluro    0\n",
       "Thallium                   0\n",
       "Heart Disease              0\n",
       "dtype: int64"
      ]
     },
     "execution_count": 155,
     "metadata": {},
     "output_type": "execute_result"
    }
   ],
   "source": [
    "df.isna().sum()"
   ]
  },
  {
   "cell_type": "code",
   "execution_count": 156,
   "metadata": {},
   "outputs": [
    {
     "data": {
      "text/plain": [
       "<AxesSubplot:>"
      ]
     },
     "execution_count": 156,
     "metadata": {},
     "output_type": "execute_result"
    },
    {
     "data": {
      "image/png": "[encoded data removed]",
      "text/plain": [
       "<Figure size 432x288 with 2 Axes>"
      ]
     },
     "metadata": {
      "needs_background": "light"
     },
     "output_type": "display_data"
    },
    {
     "data": {
      "image/png": "[encoded data removed]",
      "text/plain": [
       "<Figure size 1728x720 with 3 Axes>"
      ]
     },
     "metadata": {
      "needs_background": "light"
     },
     "output_type": "display_data"
    }
   ],
   "source": [
    "sns.heatmap(df.corr())\n",
    "import missingno as ms \n",
    "ms.bar(df)"
   ]
  },
  {
   "cell_type": "code",
   "execution_count": 157,
   "metadata": {},
   "outputs": [
    {
     "data": {
      "text/html": [
       "<div>\n",
       "<style scoped>\n",
       "    .dataframe tbody tr th:only-of-type {\n",
       "        vertical-align: middle;\n",
       "    }\n",
       "\n",
       "    .dataframe tbody tr th {\n",
       "        vertical-align: top;\n",
       "    }\n",
       "\n",
       "    .dataframe thead th {\n",
       "        text-align: right;\n",
       "    }\n",
       "</style>\n",
       "<table border=\"1\" class=\"dataframe\">\n",
       "  <thead>\n",
       "    <tr style=\"text-align: right;\">\n",
       "      <th></th>\n",
       "      <th>Age</th>\n",
       "      <th>Sex</th>\n",
       "      <th>Chest pain type</th>\n",
       "      <th>BP</th>\n",
       "      <th>Cholesterol</th>\n",
       "      <th>FBS over 120</th>\n",
       "      <th>EKG results</th>\n",
       "      <th>Max HR</th>\n",
       "      <th>Exercise angina</th>\n",
       "      <th>ST depression</th>\n",
       "      <th>Slope of ST</th>\n",
       "      <th>Number of vessels fluro</th>\n",
       "      <th>Thallium</th>\n",
       "      <th>Heart Disease</th>\n",
       "    </tr>\n",
       "  </thead>\n",
       "  <tbody>\n",
       "    <tr>\n",
       "      <th>0</th>\n",
       "      <td>70</td>\n",
       "      <td>1.0</td>\n",
       "      <td>4</td>\n",
       "      <td>130</td>\n",
       "      <td>322.0</td>\n",
       "      <td>0.0</td>\n",
       "      <td>2</td>\n",
       "      <td>109</td>\n",
       "      <td>0</td>\n",
       "      <td>2.4</td>\n",
       "      <td>2.0</td>\n",
       "      <td>3</td>\n",
       "      <td>3</td>\n",
       "      <td>Presence</td>\n",
       "    </tr>\n",
       "    <tr>\n",
       "      <th>1</th>\n",
       "      <td>67</td>\n",
       "      <td>0.0</td>\n",
       "      <td>3</td>\n",
       "      <td>115</td>\n",
       "      <td>564.0</td>\n",
       "      <td>0.0</td>\n",
       "      <td>2</td>\n",
       "      <td>160</td>\n",
       "      <td>0</td>\n",
       "      <td>1.6</td>\n",
       "      <td>2.0</td>\n",
       "      <td>0</td>\n",
       "      <td>7</td>\n",
       "      <td>Absence</td>\n",
       "    </tr>\n",
       "    <tr>\n",
       "      <th>2</th>\n",
       "      <td>57</td>\n",
       "      <td>1.0</td>\n",
       "      <td>2</td>\n",
       "      <td>124</td>\n",
       "      <td>261.0</td>\n",
       "      <td>0.0</td>\n",
       "      <td>0</td>\n",
       "      <td>141</td>\n",
       "      <td>0</td>\n",
       "      <td>0.3</td>\n",
       "      <td>1.0</td>\n",
       "      <td>0</td>\n",
       "      <td>7</td>\n",
       "      <td>Presence</td>\n",
       "    </tr>\n",
       "    <tr>\n",
       "      <th>3</th>\n",
       "      <td>64</td>\n",
       "      <td>1.0</td>\n",
       "      <td>4</td>\n",
       "      <td>128</td>\n",
       "      <td>263.0</td>\n",
       "      <td>0.0</td>\n",
       "      <td>0</td>\n",
       "      <td>105</td>\n",
       "      <td>1</td>\n",
       "      <td>0.2</td>\n",
       "      <td>2.0</td>\n",
       "      <td>1</td>\n",
       "      <td>7</td>\n",
       "      <td>Absence</td>\n",
       "    </tr>\n",
       "    <tr>\n",
       "      <th>4</th>\n",
       "      <td>74</td>\n",
       "      <td>0.0</td>\n",
       "      <td>2</td>\n",
       "      <td>120</td>\n",
       "      <td>269.0</td>\n",
       "      <td>0.0</td>\n",
       "      <td>2</td>\n",
       "      <td>121</td>\n",
       "      <td>1</td>\n",
       "      <td>0.2</td>\n",
       "      <td>1.0</td>\n",
       "      <td>1</td>\n",
       "      <td>3</td>\n",
       "      <td>Absence</td>\n",
       "    </tr>\n",
       "    <tr>\n",
       "      <th>...</th>\n",
       "      <td>...</td>\n",
       "      <td>...</td>\n",
       "      <td>...</td>\n",
       "      <td>...</td>\n",
       "      <td>...</td>\n",
       "      <td>...</td>\n",
       "      <td>...</td>\n",
       "      <td>...</td>\n",
       "      <td>...</td>\n",
       "      <td>...</td>\n",
       "      <td>...</td>\n",
       "      <td>...</td>\n",
       "      <td>...</td>\n",
       "      <td>...</td>\n",
       "    </tr>\n",
       "    <tr>\n",
       "      <th>265</th>\n",
       "      <td>52</td>\n",
       "      <td>1.0</td>\n",
       "      <td>3</td>\n",
       "      <td>172</td>\n",
       "      <td>199.0</td>\n",
       "      <td>1.0</td>\n",
       "      <td>0</td>\n",
       "      <td>162</td>\n",
       "      <td>0</td>\n",
       "      <td>0.5</td>\n",
       "      <td>1.0</td>\n",
       "      <td>0</td>\n",
       "      <td>7</td>\n",
       "      <td>Absence</td>\n",
       "    </tr>\n",
       "    <tr>\n",
       "      <th>266</th>\n",
       "      <td>44</td>\n",
       "      <td>1.0</td>\n",
       "      <td>2</td>\n",
       "      <td>120</td>\n",
       "      <td>263.0</td>\n",
       "      <td>0.0</td>\n",
       "      <td>0</td>\n",
       "      <td>173</td>\n",
       "      <td>0</td>\n",
       "      <td>0.0</td>\n",
       "      <td>1.0</td>\n",
       "      <td>0</td>\n",
       "      <td>7</td>\n",
       "      <td>Absence</td>\n",
       "    </tr>\n",
       "    <tr>\n",
       "      <th>267</th>\n",
       "      <td>56</td>\n",
       "      <td>0.0</td>\n",
       "      <td>2</td>\n",
       "      <td>140</td>\n",
       "      <td>294.0</td>\n",
       "      <td>0.0</td>\n",
       "      <td>2</td>\n",
       "      <td>153</td>\n",
       "      <td>0</td>\n",
       "      <td>1.3</td>\n",
       "      <td>2.0</td>\n",
       "      <td>0</td>\n",
       "      <td>3</td>\n",
       "      <td>Absence</td>\n",
       "    </tr>\n",
       "    <tr>\n",
       "      <th>268</th>\n",
       "      <td>57</td>\n",
       "      <td>1.0</td>\n",
       "      <td>4</td>\n",
       "      <td>140</td>\n",
       "      <td>192.0</td>\n",
       "      <td>0.0</td>\n",
       "      <td>0</td>\n",
       "      <td>148</td>\n",
       "      <td>0</td>\n",
       "      <td>0.4</td>\n",
       "      <td>2.0</td>\n",
       "      <td>0</td>\n",
       "      <td>6</td>\n",
       "      <td>Absence</td>\n",
       "    </tr>\n",
       "    <tr>\n",
       "      <th>269</th>\n",
       "      <td>67</td>\n",
       "      <td>1.0</td>\n",
       "      <td>4</td>\n",
       "      <td>160</td>\n",
       "      <td>286.0</td>\n",
       "      <td>0.0</td>\n",
       "      <td>2</td>\n",
       "      <td>108</td>\n",
       "      <td>1</td>\n",
       "      <td>1.5</td>\n",
       "      <td>2.0</td>\n",
       "      <td>3</td>\n",
       "      <td>3</td>\n",
       "      <td>Presence</td>\n",
       "    </tr>\n",
       "  </tbody>\n",
       "</table>\n",
       "<p>270 rows × 14 columns</p>\n",
       "</div>"
      ],
      "text/plain": [
       "    Age  Sex Chest pain type   BP  Cholesterol  FBS over 120 EKG results  \\\n",
       "0    70  1.0               4  130        322.0           0.0           2   \n",
       "1    67  0.0               3  115        564.0           0.0           2   \n",
       "2    57  1.0               2  124        261.0           0.0           0   \n",
       "3    64  1.0               4  128        263.0           0.0           0   \n",
       "4    74  0.0               2  120        269.0           0.0           2   \n",
       "..   ..  ...             ...  ...          ...           ...         ...   \n",
       "265  52  1.0               3  172        199.0           1.0           0   \n",
       "266  44  1.0               2  120        263.0           0.0           0   \n",
       "267  56  0.0               2  140        294.0           0.0           2   \n",
       "268  57  1.0               4  140        192.0           0.0           0   \n",
       "269  67  1.0               4  160        286.0           0.0           2   \n",
       "\n",
       "    Max HR Exercise angina  ST depression  Slope of ST  \\\n",
       "0      109               0            2.4          2.0   \n",
       "1      160               0            1.6          2.0   \n",
       "2      141               0            0.3          1.0   \n",
       "3      105               1            0.2          2.0   \n",
       "4      121               1            0.2          1.0   \n",
       "..     ...             ...            ...          ...   \n",
       "265    162               0            0.5          1.0   \n",
       "266    173               0            0.0          1.0   \n",
       "267    153               0            1.3          2.0   \n",
       "268    148               0            0.4          2.0   \n",
       "269    108               1            1.5          2.0   \n",
       "\n",
       "    Number of vessels fluro  Thallium Heart Disease  \n",
       "0                         3         3      Presence  \n",
       "1                         0         7       Absence  \n",
       "2                         0         7      Presence  \n",
       "3                         1         7       Absence  \n",
       "4                         1         3       Absence  \n",
       "..                      ...       ...           ...  \n",
       "265                       0         7       Absence  \n",
       "266                       0         7       Absence  \n",
       "267                       0         3       Absence  \n",
       "268                       0         6       Absence  \n",
       "269                       3         3      Presence  \n",
       "\n",
       "[270 rows x 14 columns]"
      ]
     },
     "execution_count": 157,
     "metadata": {},
     "output_type": "execute_result"
    }
   ],
   "source": [
    "df.replace(['?','<','NAN','>','nan'],[np.nan,np.nan,np.nan,np.nan,np.nan], inplace=True)\n",
    "df"
   ]
  },
  {
   "cell_type": "code",
   "execution_count": 158,
   "metadata": {},
   "outputs": [
    {
     "data": {
      "text/plain": [
       "Age                        1\n",
       "Sex                        1\n",
       "Chest pain type            1\n",
       "BP                         1\n",
       "Cholesterol                1\n",
       "FBS over 120               1\n",
       "EKG results                1\n",
       "Max HR                     1\n",
       "Exercise angina            1\n",
       "ST depression              1\n",
       "Slope of ST                1\n",
       "Number of vessels fluro    1\n",
       "Thallium                   0\n",
       "Heart Disease              0\n",
       "dtype: int64"
      ]
     },
     "execution_count": 158,
     "metadata": {},
     "output_type": "execute_result"
    }
   ],
   "source": [
    "df.isna().sum()"
   ]
  },
  {
   "cell_type": "code",
   "execution_count": 159,
   "metadata": {},
   "outputs": [
    {
     "data": {
      "text/plain": [
       "Age                        0\n",
       "Sex                        0\n",
       "Chest pain type            0\n",
       "BP                         0\n",
       "Cholesterol                0\n",
       "FBS over 120               0\n",
       "EKG results                0\n",
       "Max HR                     0\n",
       "Exercise angina            0\n",
       "ST depression              0\n",
       "Slope of ST                0\n",
       "Number of vessels fluro    0\n",
       "Thallium                   0\n",
       "Heart Disease              0\n",
       "dtype: int64"
      ]
     },
     "execution_count": 159,
     "metadata": {},
     "output_type": "execute_result"
    }
   ],
   "source": [
    "\n",
    "df[\"Sex\"].fillna(df['Sex'].median(), inplace=True)\n",
    "df['Chest pain type'].fillna(df['Chest pain type'].median(),inplace=True)\n",
    "df['BP'].fillna(df['BP'].median(),inplace=True)\n",
    "df['Cholesterol'].fillna(df['Cholesterol'].median(),inplace=True)\n",
    "df['FBS over 120'].fillna(df['FBS over 120'].median(),inplace=True)\n",
    "df['EKG results'].fillna(df['EKG results'].median(),inplace=True)\n",
    "df['Age'].fillna(df['Age'].median(),inplace=True)\n",
    "df['Max HR'].fillna(df['Max HR'].median(),inplace=True)\n",
    "df['Exercise angina'].fillna(df['Exercise angina'].median(),inplace=True)\n",
    "df['ST depression'].fillna(df['ST depression'].median(),inplace=True)\n",
    "df['Slope of ST'].fillna(df['Slope of ST'].median(),inplace=True)\n",
    "df['Number of vessels fluro'].fillna(df['Number of vessels fluro'].median(),inplace=True)\n",
    "df.head(10)\n",
    "df.isna().sum()"
   ]
  },
  {
   "cell_type": "code",
   "execution_count": 160,
   "metadata": {},
   "outputs": [],
   "source": [
    "df.replace(['Presence','Absence'],[1,0], inplace=True)"
   ]
  },
  {
   "cell_type": "code",
   "execution_count": 161,
   "metadata": {},
   "outputs": [],
   "source": [
    "\n",
    "#setting features and target\n",
    "\n",
    "X=df.iloc[:,:-1]   #features\n",
    "Y=df.iloc[:,-1]    #target\n"
   ]
  },
  {
   "cell_type": "code",
   "execution_count": 162,
   "metadata": {},
   "outputs": [],
   "source": [
    "import numpy as np\n",
    "from sklearn.model_selection import train_test_split\n",
    "X_train, X_test, Y_train, Y_test = train_test_split(X,Y)"
   ]
  },
  {
   "cell_type": "code",
   "execution_count": null,
   "metadata": {},
   "outputs": [],
   "source": [
    "# Wrapper Method"
   ]
  },
  {
   "cell_type": "code",
   "execution_count": 163,
   "metadata": {},
   "outputs": [],
   "source": [
    "#1)Forward Selection\n",
    "import mlxtend\n",
    "from mlxtend.frequent_patterns import association_rules\n",
    "from mlxtend.feature_selection import SequentialFeatureSelector as SFS\n",
    "from sklearn.linear_model import LinearRegression\n",
    "sfs = SFS(LinearRegression(),\n",
    "          k_features=11,\n",
    "          forward=True,\n",
    "          floating=False,\n",
    "          scoring = 'r2',\n",
    "          cv = 0)\n",
    "sfs.fit(X_train, Y_train)\n",
    "all=sfs.k_feature_names_     # to get the final set of features\n",
    "all=np.array(all)\n",
    "x_train=X_train[all]\n",
    "x_test=X_test[all]\n"
   ]
  },
  {
   "cell_type": "code",
   "execution_count": 164,
   "metadata": {},
   "outputs": [
    {
     "name": "stdout",
     "output_type": "stream",
     "text": [
      "0.3153742551622502\n"
     ]
    }
   ],
   "source": [
    "#Linear Regression\n",
    "from sklearn import linear_model\n",
    "model1= linear_model.LinearRegression()\n",
    "model1.fit(x_train, Y_train)\n",
    "pred1=model1.predict(x_test)\n",
    "from sklearn.metrics import mean_squared_error\n",
    "errors = mean_squared_error(Y_test, pred1, squared=False)\n",
    "# report error\n",
    "print(errors)"
   ]
  },
  {
   "cell_type": "code",
   "execution_count": 165,
   "metadata": {},
   "outputs": [
    {
     "name": "stdout",
     "output_type": "stream",
     "text": [
      "0.36380343755449945\n"
     ]
    }
   ],
   "source": [
    "#Logistic Regression\n",
    "from sklearn.linear_model import LogisticRegression\n",
    "model2 = LogisticRegression()\n",
    "model2.fit(x_train, Y_train)\n",
    "pred2=model2.predict(x_test)\n",
    "from sklearn.metrics import mean_squared_error\n",
    "errors = mean_squared_error(Y_test, pred2, squared=False)\n",
    "# report error\n",
    "print(errors)"
   ]
  },
  {
   "cell_type": "code",
   "execution_count": 166,
   "metadata": {},
   "outputs": [
    {
     "name": "stdout",
     "output_type": "stream",
     "text": [
      "0.3208444739598739\n"
     ]
    }
   ],
   "source": [
    "#Gaussian Naive Bayers\n",
    "from sklearn.naive_bayes import GaussianNB\n",
    "model3 = GaussianNB()\n",
    "model3.fit(x_train, Y_train)\n",
    "pred3=model3.predict(x_test)\n",
    "from sklearn.metrics import mean_squared_error\n",
    "errors = mean_squared_error(Y_test, pred3, squared=False)\n",
    "# report error\n",
    "print(errors)"
   ]
  },
  {
   "cell_type": "code",
   "execution_count": 167,
   "metadata": {},
   "outputs": [
    {
     "name": "stdout",
     "output_type": "stream",
     "text": [
      "0.29848902219170925\n"
     ]
    }
   ],
   "source": [
    "#Using Ensemble Learning\n",
    "final_pred_1=(0.6*pred1+0.2*pred2+0.2*pred3)\n",
    "from sklearn.metrics import mean_squared_error\n",
    "errors = mean_squared_error(Y_test, final_pred_1, squared=False)\n",
    "# report error\n",
    "print(errors)"
   ]
  },
  {
   "cell_type": "code",
   "execution_count": 168,
   "metadata": {},
   "outputs": [],
   "source": [
    "# 2.Backward Elimination\n",
    "\n",
    "sbs = SFS(LinearRegression(),\n",
    "         k_features=11,\n",
    "         forward=False,\n",
    "         floating=False,\n",
    "         cv=0)\n",
    "sbs.fit(X_train, Y_train)\n",
    "all2=sbs.k_feature_names_\n",
    "all2=np.array(all2)\n",
    "x_train=X_train[all2]\n",
    "x_test=X_test[all2]"
   ]
  },
  {
   "cell_type": "code",
   "execution_count": 169,
   "metadata": {},
   "outputs": [
    {
     "name": "stdout",
     "output_type": "stream",
     "text": [
      "0.3153742551622502\n"
     ]
    }
   ],
   "source": [
    "#Linear Regression\n",
    "from sklearn import linear_model\n",
    "model1= linear_model.LinearRegression()\n",
    "model1.fit(x_train, Y_train)\n",
    "pred1=model1.predict(x_test)\n",
    "from sklearn.metrics import mean_squared_error\n",
    "errors = mean_squared_error(Y_test, pred1, squared=False)\n",
    "# report error\n",
    "print(errors)"
   ]
  },
  {
   "cell_type": "code",
   "execution_count": 170,
   "metadata": {},
   "outputs": [
    {
     "name": "stdout",
     "output_type": "stream",
     "text": [
      "0.36380343755449945\n"
     ]
    }
   ],
   "source": [
    "#Logistic Regression\n",
    "from sklearn.linear_model import LogisticRegression\n",
    "model2 = LogisticRegression()\n",
    "model2.fit(x_train, Y_train)\n",
    "pred2=model2.predict(x_test)\n",
    "from sklearn.metrics import mean_squared_error\n",
    "errors = mean_squared_error(Y_test, pred2, squared=False)\n",
    "# report error\n",
    "print(errors)"
   ]
  },
  {
   "cell_type": "code",
   "execution_count": 171,
   "metadata": {},
   "outputs": [
    {
     "name": "stdout",
     "output_type": "stream",
     "text": [
      "0.3208444739598739\n"
     ]
    }
   ],
   "source": [
    "#Gaussian Naive Bayers\n",
    "from sklearn.naive_bayes import GaussianNB\n",
    "model3 = GaussianNB()\n",
    "model3.fit(x_train, Y_train)\n",
    "pred3=model3.predict(x_test)\n",
    "from sklearn.metrics import mean_squared_error\n",
    "errors = mean_squared_error(Y_test, pred3, squared=False)\n",
    "# report error\n",
    "print(errors)"
   ]
  },
  {
   "cell_type": "code",
   "execution_count": 172,
   "metadata": {},
   "outputs": [
    {
     "name": "stdout",
     "output_type": "stream",
     "text": [
      "0.29848902219170925\n"
     ]
    }
   ],
   "source": [
    "#Using Ensemble Learning\n",
    "final_pred_1=(0.6*pred1+0.2*pred2+0.2*pred3)\n",
    "from sklearn.metrics import mean_squared_error\n",
    "errors = mean_squared_error(Y_test, final_pred_1, squared=False)\n",
    "# report error\n",
    "print(errors)"
   ]
  },
  {
   "cell_type": "code",
   "execution_count": 173,
   "metadata": {},
   "outputs": [],
   "source": [
    "# 3.Bi-directional Elimination\n",
    "\n",
    "sffs = SFS(LinearRegression(),\n",
    "         k_features=(3,11),\n",
    "         forward=True,\n",
    "         floating=True,\n",
    "         cv=0)\n",
    "sffs.fit(X_train, Y_train)\n",
    "all3=sffs.k_feature_names_\n",
    "all3=np.array(all3)\n",
    "x_train=X_train[all3]\n",
    "x_test=X_test[all3]\n"
   ]
  },
  {
   "cell_type": "code",
   "execution_count": 174,
   "metadata": {},
   "outputs": [
    {
     "name": "stdout",
     "output_type": "stream",
     "text": [
      "0.3153742551622502\n"
     ]
    }
   ],
   "source": [
    "#Linear Regression\n",
    "from sklearn import linear_model\n",
    "model1= linear_model.LinearRegression()\n",
    "model1.fit(x_train, Y_train)\n",
    "pred1=model1.predict(x_test)\n",
    "from sklearn.metrics import mean_squared_error\n",
    "errors = mean_squared_error(Y_test, pred1, squared=False)\n",
    "# report error\n",
    "print(errors)"
   ]
  },
  {
   "cell_type": "code",
   "execution_count": 175,
   "metadata": {},
   "outputs": [
    {
     "name": "stdout",
     "output_type": "stream",
     "text": [
      "0.36380343755449945\n"
     ]
    }
   ],
   "source": [
    "#Logistic Regression\n",
    "from sklearn.linear_model import LogisticRegression\n",
    "model2 = LogisticRegression()\n",
    "model2.fit(x_train, Y_train)\n",
    "pred2=model2.predict(x_test)\n",
    "from sklearn.metrics import mean_squared_error\n",
    "errors = mean_squared_error(Y_test, pred2, squared=False)\n",
    "# report error\n",
    "print(errors)"
   ]
  },
  {
   "cell_type": "code",
   "execution_count": 176,
   "metadata": {},
   "outputs": [
    {
     "name": "stdout",
     "output_type": "stream",
     "text": [
      "0.3208444739598739\n"
     ]
    }
   ],
   "source": [
    "#Gaussian Naive Bayers\n",
    "from sklearn.naive_bayes import GaussianNB\n",
    "model3 = GaussianNB()\n",
    "model3.fit(x_train, Y_train)\n",
    "pred3=model3.predict(x_test)\n",
    "from sklearn.metrics import mean_squared_error\n",
    "errors = mean_squared_error(Y_test, pred3, squared=False)\n",
    "# report error\n",
    "print(errors)"
   ]
  },
  {
   "cell_type": "code",
   "execution_count": 177,
   "metadata": {},
   "outputs": [
    {
     "name": "stdout",
     "output_type": "stream",
     "text": [
      "0.29848902219170925\n"
     ]
    }
   ],
   "source": [
    "#Using Ensemble Learning\n",
    "final_pred_1=(0.6*pred1+0.2*pred2+0.2*pred3)\n",
    "from sklearn.metrics import mean_squared_error\n",
    "errors = mean_squared_error(Y_test, final_pred_1, squared=False)\n",
    "# report error\n",
    "print(errors)"
   ]
  },
  {
   "cell_type": "code",
   "execution_count": 187,
   "metadata": {},
   "outputs": [
    {
     "name": "stdout",
     "output_type": "stream",
     "text": [
      "(202, 13)\n",
      "0\n"
     ]
    }
   ],
   "source": [
    "# Filter Method\n",
    "# 1)Removing Constant Features using VarianceThreshold\n",
    "\n",
    "\n",
    "\n",
    "from sklearn.feature_selection import VarianceThreshold\n",
    "constant_filter = VarianceThreshold(threshold=0)\n",
    "#Fit and transforming on train data\n",
    "data_constant = constant_filter.fit_transform(X_train)\n",
    "print(data_constant.shape)\n",
    "#Extracting all constant columns using get support function of our filter\n",
    "constant_columns = [column for column in X_train.columns\n",
    "                    if column not in X_train.columns[constant_filter.get_support()]]\n",
    "#No. of constant columns\n",
    "print(len(constant_columns))\n",
    "#Constant columns names:\n",
    "for column in constant_columns:\n",
    "    print(column)"
   ]
  },
  {
   "cell_type": "code",
   "execution_count": 188,
   "metadata": {},
   "outputs": [
    {
     "data": {
      "text/plain": [
       "(270, 14)"
      ]
     },
     "execution_count": 188,
     "metadata": {},
     "output_type": "execute_result"
    }
   ],
   "source": [
    "#Removing the above-identified constant columns from our dataset\n",
    "df1 = df.drop(constant_columns,axis=1)\n",
    "df1.shape"
   ]
  },
  {
   "cell_type": "code",
   "execution_count": 189,
   "metadata": {},
   "outputs": [
    {
     "name": "stdout",
     "output_type": "stream",
     "text": [
      "(202, 13)\n",
      "0\n"
     ]
    }
   ],
   "source": [
    "# 2)Removing Quasi-Constant Features\n",
    "qcons_filter = VarianceThreshold(threshold=0.01)\n",
    "#Fit and transforming on train data\n",
    "data_qcons = qcons_filter.fit_transform(X_train)\n",
    "print(data_qcons.shape)\n",
    "#Extracting all Quasi constant columns using get support function of our filter\n",
    "qcons_columns = [column for column in X_train.columns\n",
    "                    if column not in X_train.columns[qcons_filter.get_support()]]\n",
    "#No. of Quasi constant columns\n",
    "print(len(qcons_columns))\n",
    "\n",
    "#Quasi Constant columns names:\n",
    "for column in qcons_columns:\n",
    "    print(column)"
   ]
  },
  {
   "cell_type": "code",
   "execution_count": 190,
   "metadata": {},
   "outputs": [
    {
     "data": {
      "text/plain": [
       "(270, 14)"
      ]
     },
     "execution_count": 190,
     "metadata": {},
     "output_type": "execute_result"
    }
   ],
   "source": [
    "#Removing above-identified quasi constant columns from our dataset\n",
    "df1 = df1.drop(qcons_columns,axis=1)\n",
    "df1.shape"
   ]
  },
  {
   "cell_type": "code",
   "execution_count": 191,
   "metadata": {},
   "outputs": [
    {
     "name": "stdout",
     "output_type": "stream",
     "text": [
      "0\n"
     ]
    },
    {
     "data": {
      "text/plain": [
       "(270, 14)"
      ]
     },
     "execution_count": 191,
     "metadata": {},
     "output_type": "execute_result"
    }
   ],
   "source": [
    "# 3)Removing Duplicate Columns\n",
    "# Transposing dataset\n",
    "df1_t = df1.T\n",
    "df1_t.shape\n",
    "#duplicacy in columns\n",
    "print(df1_t.duplicated().sum())\n",
    "#Dropping Duplicated method using drop_duplicates()\n",
    "df1_dup = df1_t.drop_duplicates(keep='first').T\n",
    "df1_dup.shape"
   ]
  },
  {
   "cell_type": "code",
   "execution_count": 192,
   "metadata": {},
   "outputs": [
    {
     "data": {
      "text/plain": [
       "Index(['Age', 'Sex', 'Chest pain type', 'BP', 'Cholesterol', 'FBS over 120',\n",
       "       'EKG results', 'Max HR', 'Exercise angina', 'ST depression',\n",
       "       'Slope of ST', 'Number of vessels fluro', 'Thallium', 'Heart Disease'],\n",
       "      dtype='object')"
      ]
     },
     "execution_count": 192,
     "metadata": {},
     "output_type": "execute_result"
    }
   ],
   "source": [
    "# 4)Correlation of Features with the Target Variable\n",
    "#removing features with low correlation\n",
    "\n",
    "corr_matrix=df1.corr()\n",
    "cor=corr_matrix[\"Heart Disease\"]\n",
    "cor\n",
    "df1.columns\n"
   ]
  },
  {
   "cell_type": "code",
   "execution_count": 193,
   "metadata": {},
   "outputs": [
    {
     "data": {
      "image/png": "[encoded data removed]",
      "text/plain": [
       "<Figure size 432x288 with 1 Axes>"
      ]
     },
     "metadata": {
      "needs_background": "light"
     },
     "output_type": "display_data"
    }
   ],
   "source": [
    "#Plotting for visualization\n",
    "import matplotlib.pyplot as plt\n",
    "plt.hist(cor)\n",
    "plt.show()"
   ]
  },
  {
   "cell_type": "code",
   "execution_count": 194,
   "metadata": {},
   "outputs": [
    {
     "name": "stdout",
     "output_type": "stream",
     "text": [
      "70\n",
      "Age\n",
      "1.0\n",
      "Sex\n",
      "4\n",
      "Chest pain type\n",
      "322.0\n",
      "Cholesterol\n"
     ]
    }
   ],
   "source": [
    "# removing features with low correlation\n",
    "for i in range(len(cor)):\n",
    "    if np.abs(cor[i])<0.4:\n",
    "        print(df1.iloc[0,i])\n",
    "        print(df1.columns[i])\n",
    "\n",
    "\n"
   ]
  },
  {
   "cell_type": "code",
   "execution_count": 186,
   "metadata": {},
   "outputs": [
    {
     "data": {
      "text/plain": [
       "(270, 7)"
      ]
     },
     "execution_count": 186,
     "metadata": {},
     "output_type": "execute_result"
    }
   ],
   "source": [
    "\n",
    "df1=df1.drop([\"Age\",\"Sex\",\"Chest pain type\",\"Cholesterol\"],axis=1);\n",
    "df1.shape\n"
   ]
  },
  {
   "cell_type": "code",
   "execution_count": 203,
   "metadata": {},
   "outputs": [],
   "source": [
    "# 5) Correlation with other variables\n",
    "#for i in range(0,len(df1.columns)):\n",
    " #   for j in  range(0,len(df1.columns)):\n",
    "  #      if i!=j:\n",
    "   #         corr_1=np.abs(df1[df1.columns[i]].corr(df1[df1.columns[j]]))\n",
    "    #        if corr_1 <0.3:\n",
    "     #           print( df1.columns[i] , \" is not correlated  with \", df1.columns[j])\n",
    "      #      elif corr_1>0.75:\n",
    "       #         print( df1.columns[i] , \" is highly  correlated  with \", df1.columns[j])\n"
   ]
  },
  {
   "cell_type": "code",
   "execution_count": 196,
   "metadata": {},
   "outputs": [
    {
     "name": "stdout",
     "output_type": "stream",
     "text": [
      "0.30975464001908687\n"
     ]
    }
   ],
   "source": [
    "# features from filter method\n",
    "all=df1.iloc[:,:-1]\n",
    "x_train=X_train[all.columns]\n",
    "x_test=X_test[all.columns]\n",
    "from sklearn import linear_model\n",
    "model= linear_model.LinearRegression()\n",
    "model.fit(x_train, Y_train)\n",
    "pred=model.predict(x_test)\n",
    "from sklearn.metrics import mean_squared_error\n",
    "errors = mean_squared_error(Y_test, pred, squared=False)\n",
    "# report error\n",
    "print(errors)"
   ]
  },
  {
   "cell_type": "code",
   "execution_count": 197,
   "metadata": {},
   "outputs": [
    {
     "name": "stdout",
     "output_type": "stream",
     "text": [
      "Selected Features: ['Age', 'Sex', 'Chest pain type', 'BP', 'Cholesterol', 'FBS over 120', 'EKG results', 'Max HR', 'Exercise angina', 'ST depression', 'Slope of ST', 'Number of vessels fluro', 'Thallium']\n"
     ]
    }
   ],
   "source": [
    "#Embeded Methods\n",
    "#LASSO\n",
    "from sklearn.linear_model import LassoCV\n",
    "from sklearn.model_selection import StratifiedKFold\n",
    "skf = StratifiedKFold(n_splits=10)\n",
    "lasso = LassoCV(cv=skf, random_state=42).fit(X_train,Y_train)\n",
    "print('Selected Features:', list(df.columns[np.where(lasso.coef_!=0)[0]]))\n"
   ]
  },
  {
   "cell_type": "code",
   "execution_count": 198,
   "metadata": {},
   "outputs": [],
   "source": [
    "#Removing not selected features\n",
    "X3_train=X_train[['Age', 'Sex', 'Chest pain type', 'BP', 'Cholesterol', 'FBS over 120', 'EKG results', 'Max HR', 'Exercise angina', 'ST depression', 'Slope of ST', 'Number of vessels fluro', 'Thallium']]\n",
    "X3_test=X_test[['Age', 'Sex', 'Chest pain type', 'BP', 'Cholesterol', 'FBS over 120', 'EKG results', 'Max HR', 'Exercise angina', 'ST depression', 'Slope of ST', 'Number of vessels fluro', 'Thallium']]\n"
   ]
  },
  {
   "cell_type": "code",
   "execution_count": 199,
   "metadata": {},
   "outputs": [
    {
     "name": "stdout",
     "output_type": "stream",
     "text": [
      "0.30975464001908687\n"
     ]
    }
   ],
   "source": [
    "#Linear Regression\n",
    "from sklearn import linear_model\n",
    "model1= linear_model.LinearRegression()\n",
    "model1.fit(X3_train, Y_train)\n",
    "pred1=model1.predict(X3_test)\n",
    "from sklearn.metrics import mean_squared_error\n",
    "errors = mean_squared_error(Y_test, pred1, squared=False)\n",
    "# report error\n",
    "print(errors)"
   ]
  },
  {
   "cell_type": "code",
   "execution_count": 200,
   "metadata": {},
   "outputs": [
    {
     "name": "stdout",
     "output_type": "stream",
     "text": [
      "0.3208444739598739\n"
     ]
    }
   ],
   "source": [
    "#Logistic Regression\n",
    "from sklearn.linear_model import LogisticRegression\n",
    "model2 = LogisticRegression()\n",
    "model2.fit(X3_train, Y_train)\n",
    "pred2=model2.predict(X3_test)\n",
    "from sklearn.metrics import mean_squared_error\n",
    "errors = mean_squared_error(Y_test, pred2, squared=False)\n",
    "# report error\n",
    "print(errors)"
   ]
  },
  {
   "cell_type": "code",
   "execution_count": 201,
   "metadata": {},
   "outputs": [
    {
     "name": "stdout",
     "output_type": "stream",
     "text": [
      "0.2711630722733202\n"
     ]
    }
   ],
   "source": [
    "#Gaussian Naive Bayers\n",
    "from sklearn.naive_bayes import GaussianNB\n",
    "model3 = GaussianNB()\n",
    "model3.fit(X3_train, Y_train)\n",
    "pred3=model3.predict(X3_test)\n",
    "from sklearn.metrics import mean_squared_error\n",
    "errors = mean_squared_error(Y_test, pred3, squared=False)\n",
    "# report error\n",
    "print(errors)"
   ]
  },
  {
   "cell_type": "code",
   "execution_count": 202,
   "metadata": {},
   "outputs": [
    {
     "name": "stdout",
     "output_type": "stream",
     "text": [
      "0.2729025699680415\n"
     ]
    }
   ],
   "source": [
    "#Using Ensemble Learning\n",
    "final_pred_1=(0.6*pred1+0.2*pred2+0.2*pred3)\n",
    "from sklearn.metrics import mean_squared_error\n",
    "errors = mean_squared_error(Y_test, final_pred_1, squared=False)\n",
    "# report error\n",
    "print(errors)"
   ]
  }
 ],
 "metadata": {
  "kernelspec": {
   "display_name": "Python 3",
   "language": "python",
   "name": "python3"
  },
  "language_info": {
   "codemirror_mode": {
    "name": "ipython",
    "version": 3
   },
   "file_extension": ".py",
   "mimetype": "text/x-python",
   "name": "python",
   "nbconvert_exporter": "python",
   "pygments_lexer": "ipython3",
   "version": "3.8.5"
  }
 },
 "nbformat": 4,
 "nbformat_minor": 4
}
